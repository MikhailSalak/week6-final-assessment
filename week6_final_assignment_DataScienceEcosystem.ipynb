{
  "metadata": {
    "language_info": {
      "codemirror_mode": {
        "name": "python",
        "version": 3
      },
      "file_extension": ".py",
      "mimetype": "text/x-python",
      "name": "python",
      "nbconvert_exporter": "python",
      "pygments_lexer": "ipython3",
      "version": "3.8"
    },
    "kernelspec": {
      "name": "python",
      "display_name": "Python (Pyodide)",
      "language": "python"
    }
  },
  "nbformat_minor": 4,
  "nbformat": 4,
  "cells": [
    {
      "cell_type": "markdown",
      "source": "<H1>Data Science Tools and Ecosystem</H2>",
      "metadata": {}
    },
    {
      "cell_type": "markdown",
      "source": "In this notebook, Data Science Tools and Ecosystem are summarized.",
      "metadata": {}
    },
    {
      "cell_type": "markdown",
      "source": "Some of the popular languages that Data Scientists use are:\n1. Python\n2. R\n3. SQL\n* C++\n* JS",
      "metadata": {}
    },
    {
      "cell_type": "markdown",
      "source": "Some of the commonly used libraries used by Data Scientists include:\n1. TensorFlow\n2. SciPy\n3. PyTorch\n4. Matplotlib",
      "metadata": {}
    },
    {
      "cell_type": "markdown",
      "source": "<b>Objectives</b>\n* list of popular languages for Data Sciennce\n* Commonly used libraries\n* Using table table formatting\n* Using bullet point list\n* Using numberes list\n* Using different text styles",
      "metadata": {}
    },
    {
      "cell_type": "markdown",
      "source": "|three development environment open source tools used in data science|\n|:-|\n|Jupyther Notebooks|\n|Git Hub|\n|R Studio|",
      "metadata": {}
    },
    {
      "cell_type": "markdown",
      "source": "<h3>HTML table pinned to the left</h3>\n<html>\n<table align=\"left\">\n  <tr> <th>three development environment open source tools used in data science</th> </tr>\n  <tr> <td>Jupyther Notebook</td> </tr>\n  <tr> <td>GitHub</td> </tr>\n  <tr> <td>R Studio</td> <tr>\n</table>\n</html>",
      "metadata": {}
    },
    {
      "cell_type": "markdown",
      "source": "<h3>Below are a few examples of evaluating arithmetic expressions in Python</h3>",
      "metadata": {}
    },
    {
      "cell_type": "code",
      "source": "#  This a simple arithmetic expression to mutiply then add integers\nprint((3*4)+5)",
      "metadata": {
        "trusted": true
      },
      "execution_count": 1,
      "outputs": [
        {
          "name": "stdout",
          "text": "17\n",
          "output_type": "stream"
        }
      ]
    },
    {
      "cell_type": "markdown",
      "source": "<h3>Convert 200 minutes to hours</h3>",
      "metadata": {}
    },
    {
      "cell_type": "code",
      "source": "# This will convert 200 minutes to hours by diving by 60 and using round function\nprint(round(200/6,2))",
      "metadata": {
        "trusted": true
      },
      "execution_count": 2,
      "outputs": [
        {
          "name": "stdout",
          "text": "33.33\n",
          "output_type": "stream"
        }
      ]
    },
    {
      "cell_type": "markdown",
      "source": "<h2>Author</h2>\nMikhail",
      "metadata": {}
    },
    {
      "cell_type": "code",
      "source": "",
      "metadata": {},
      "execution_count": null,
      "outputs": []
    }
  ]
}